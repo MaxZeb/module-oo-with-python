{
 "cells": [
  {
   "cell_type": "markdown",
   "metadata": {
    "ein.tags": "worksheet-0",
    "slideshow": {
     "slide_type": "-"
    }
   },
   "source": [
    "## Implementing K-Nearest Neighbors\n",
    "\n",
    "K-Neareset Neighbors is a simple algorithm you can read about [on Wikiepedia](https://en.wikipedia.org/wiki/K-nearest_neighbors_algorithm). \n",
    "\n",
    "Let's implement two things in Python, to solidify different ways of doing things: \n",
    "\n",
    "1. The K-Nearest Nieghbors algorithm, as a class.\n",
    "2. The K-Nearest Neighbors algorith, as a pure function.\n",
    "\n",
    "This will be simple enough that the usefulness of the difference won't be profound, but I would like you to focus on the difference in implementation itself. "
   ]
  },
  {
   "cell_type": "code",
   "execution_count": 1,
   "metadata": {
    "autoscroll": false,
    "ein.hycell": false,
    "ein.tags": "worksheet-0",
    "slideshow": {
     "slide_type": "-"
    }
   },
   "outputs": [],
   "source": [
    "class KNearestNeighbors():\n",
    "    def __init__(self, K):\n",
    "        self.K=K\n",
    "\n",
    "    def euc_dist(self, x1, x2):\n",
    "        summe = []\n",
    "        for z in range(len(x1)):\n",
    "            summe.append( (x1[z-z] - x2[z])**2 )\n",
    "        return( (sum(int(t) for t in summe))**.5 )\n",
    "    \n",
    "    def fit(self,X,y):\n",
    "        self.X = X\n",
    "        self.y = y\n",
    "    \n",
    "    def predict(self,new_x):\n",
    "        dist = []\n",
    "        for z in range(len(self.X)):\n",
    "            dist.append(round(self.euc_dist(new_x, self.X[z]),3))\n",
    "        indicator1 = sorted(dist, key=float, reverse=False)[0:self.K]\n",
    "        indicator2 = []\n",
    "        for z in range(len(indicator1)):\n",
    "            indicator2.append(dist.index(indicator1[z]))\n",
    "        new_y = sum([self.y[i] for i in indicator2])/self.K\n",
    "        return(new_y)"
   ]
  },
  {
   "cell_type": "code",
   "execution_count": 2,
   "metadata": {
    "autoscroll": false,
    "ein.hycell": false,
    "ein.tags": "worksheet-0",
    "slideshow": {
     "slide_type": "-"
    }
   },
   "outputs": [],
   "source": [
    "X = [[1,1,1], [0,0,0], [5,5,5]]\n",
    "y = [1,0,1]"
   ]
  },
  {
   "cell_type": "code",
   "execution_count": 3,
   "metadata": {
    "autoscroll": false,
    "ein.hycell": false,
    "ein.tags": "worksheet-0",
    "slideshow": {
     "slide_type": "-"
    }
   },
   "outputs": [],
   "source": [
    "# Let's test our KNearestNeighbors class: \n",
    "\n",
    "model = KNearestNeighbors(2)\n",
    "model.fit(X,y)\n",
    "\n",
    "model.predict([0,0,0])\n",
    "model.predict([3,3,3])\n",
    "\n",
    "assert(model.predict([0,0,0]) == 0.5)\n",
    "assert(model.predict([3,3,3]) == 1.0)"
   ]
  },
  {
   "cell_type": "code",
   "execution_count": 4,
   "metadata": {
    "autoscroll": false,
    "ein.hycell": false,
    "ein.tags": "worksheet-0",
    "slideshow": {
     "slide_type": "-"
    }
   },
   "outputs": [],
   "source": [
    "def knn(K, X, y, new_x):\n",
    "    def euc_dist(x1, x2):\n",
    "        summe = []\n",
    "        for z in range(len(x1)):\n",
    "            summe.append( (x1[z-z] - x2[z])**2 )\n",
    "        return( (sum(int(t) for t in summe))**.5 )\n",
    "    \n",
    "    dist = []\n",
    "    for z in range(len(X)):\n",
    "        dist.append(round(euc_dist(new_x, X[z]),3))\n",
    "    \n",
    "    indicator1 = sorted(dist, key=float, reverse=False)[0:K]\n",
    "    \n",
    "    indicator2 = []\n",
    "    for z in range(len(indicator1)):\n",
    "        indicator2.append(dist.index(indicator1[z]))\n",
    "    \n",
    "    new_y = sum([y[i] for i in indicator2])/K\n",
    "    return(new_y)"
   ]
  },
  {
   "cell_type": "code",
   "execution_count": 5,
   "metadata": {
    "autoscroll": false,
    "ein.hycell": false,
    "ein.tags": "worksheet-0",
    "slideshow": {
     "slide_type": "-"
    }
   },
   "outputs": [],
   "source": [
    "# Let's test our KNearestNeighbors functions:\n",
    "\n",
    "assert(knn(2, X, y, [0,0,0]) == 0.5)\n",
    "assert(knn(2, X, y, [3,3,3]) == 1.0)"
   ]
  }
 ],
 "metadata": {
  "kernelspec": {
   "display_name": "Python 3",
   "language": "python",
   "name": "python3"
  },
  "language_info": {
   "codemirror_mode": {
    "name": "ipython",
    "version": 3
   },
   "file_extension": ".py",
   "mimetype": "text/x-python",
   "name": "python",
   "nbconvert_exporter": "python",
   "pygments_lexer": "ipython3",
   "version": "3.6.3"
  },
  "name": "Untitled.ipynb"
 },
 "nbformat": 4,
 "nbformat_minor": 2
}
